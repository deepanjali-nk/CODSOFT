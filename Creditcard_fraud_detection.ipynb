{
 "cells": [
  {
   "cell_type": "markdown",
   "id": "30c7fd62",
   "metadata": {},
   "source": [
    "# Credit Card Fraud Detection"
   ]
  },
  {
   "cell_type": "code",
   "execution_count": 1,
   "id": "838daf0d",
   "metadata": {},
   "outputs": [],
   "source": [
    "#importing necessary dependencies\n",
    "import numpy as np\n",
    "import pandas as pd\n",
    "import matplotlib.pyplot as plt\n",
    "from sklearn.model_selection import train_test_split\n",
    "from sklearn.linear_model import LogisticRegression\n",
    "from sklearn.metrics import accuracy_score"
   ]
  },
  {
   "cell_type": "code",
   "execution_count": 2,
   "id": "8a3d946f",
   "metadata": {},
   "outputs": [
    {
     "data": {
      "text/html": [
       "<div>\n",
       "<style scoped>\n",
       "    .dataframe tbody tr th:only-of-type {\n",
       "        vertical-align: middle;\n",
       "    }\n",
       "\n",
       "    .dataframe tbody tr th {\n",
       "        vertical-align: top;\n",
       "    }\n",
       "\n",
       "    .dataframe thead th {\n",
       "        text-align: right;\n",
       "    }\n",
       "</style>\n",
       "<table border=\"1\" class=\"dataframe\">\n",
       "  <thead>\n",
       "    <tr style=\"text-align: right;\">\n",
       "      <th></th>\n",
       "      <th>Time</th>\n",
       "      <th>V1</th>\n",
       "      <th>V2</th>\n",
       "      <th>V3</th>\n",
       "      <th>V4</th>\n",
       "      <th>V5</th>\n",
       "      <th>V6</th>\n",
       "      <th>V7</th>\n",
       "      <th>V8</th>\n",
       "      <th>V9</th>\n",
       "      <th>...</th>\n",
       "      <th>V21</th>\n",
       "      <th>V22</th>\n",
       "      <th>V23</th>\n",
       "      <th>V24</th>\n",
       "      <th>V25</th>\n",
       "      <th>V26</th>\n",
       "      <th>V27</th>\n",
       "      <th>V28</th>\n",
       "      <th>Amount</th>\n",
       "      <th>Class</th>\n",
       "    </tr>\n",
       "  </thead>\n",
       "  <tbody>\n",
       "    <tr>\n",
       "      <th>0</th>\n",
       "      <td>0.0</td>\n",
       "      <td>-1.359807</td>\n",
       "      <td>-0.072781</td>\n",
       "      <td>2.536347</td>\n",
       "      <td>1.378155</td>\n",
       "      <td>-0.338321</td>\n",
       "      <td>0.462388</td>\n",
       "      <td>0.239599</td>\n",
       "      <td>0.098698</td>\n",
       "      <td>0.363787</td>\n",
       "      <td>...</td>\n",
       "      <td>-0.018307</td>\n",
       "      <td>0.277838</td>\n",
       "      <td>-0.110474</td>\n",
       "      <td>0.066928</td>\n",
       "      <td>0.128539</td>\n",
       "      <td>-0.189115</td>\n",
       "      <td>0.133558</td>\n",
       "      <td>-0.021053</td>\n",
       "      <td>149.62</td>\n",
       "      <td>0</td>\n",
       "    </tr>\n",
       "    <tr>\n",
       "      <th>1</th>\n",
       "      <td>0.0</td>\n",
       "      <td>1.191857</td>\n",
       "      <td>0.266151</td>\n",
       "      <td>0.166480</td>\n",
       "      <td>0.448154</td>\n",
       "      <td>0.060018</td>\n",
       "      <td>-0.082361</td>\n",
       "      <td>-0.078803</td>\n",
       "      <td>0.085102</td>\n",
       "      <td>-0.255425</td>\n",
       "      <td>...</td>\n",
       "      <td>-0.225775</td>\n",
       "      <td>-0.638672</td>\n",
       "      <td>0.101288</td>\n",
       "      <td>-0.339846</td>\n",
       "      <td>0.167170</td>\n",
       "      <td>0.125895</td>\n",
       "      <td>-0.008983</td>\n",
       "      <td>0.014724</td>\n",
       "      <td>2.69</td>\n",
       "      <td>0</td>\n",
       "    </tr>\n",
       "  </tbody>\n",
       "</table>\n",
       "<p>2 rows × 31 columns</p>\n",
       "</div>"
      ],
      "text/plain": [
       "   Time        V1        V2        V3        V4        V5        V6        V7  \\\n",
       "0   0.0 -1.359807 -0.072781  2.536347  1.378155 -0.338321  0.462388  0.239599   \n",
       "1   0.0  1.191857  0.266151  0.166480  0.448154  0.060018 -0.082361 -0.078803   \n",
       "\n",
       "         V8        V9  ...       V21       V22       V23       V24       V25  \\\n",
       "0  0.098698  0.363787  ... -0.018307  0.277838 -0.110474  0.066928  0.128539   \n",
       "1  0.085102 -0.255425  ... -0.225775 -0.638672  0.101288 -0.339846  0.167170   \n",
       "\n",
       "        V26       V27       V28  Amount  Class  \n",
       "0 -0.189115  0.133558 -0.021053  149.62      0  \n",
       "1  0.125895 -0.008983  0.014724    2.69      0  \n",
       "\n",
       "[2 rows x 31 columns]"
      ]
     },
     "execution_count": 2,
     "metadata": {},
     "output_type": "execute_result"
    }
   ],
   "source": [
    "#load dataset\n",
    "data=pd.read_csv('creditcard.csv')\n",
    "data.head(2)\n"
   ]
  },
  {
   "cell_type": "code",
   "execution_count": 3,
   "id": "f64c3605",
   "metadata": {},
   "outputs": [
    {
     "name": "stdout",
     "output_type": "stream",
     "text": [
      "<class 'pandas.core.frame.DataFrame'>\n",
      "RangeIndex: 284807 entries, 0 to 284806\n",
      "Data columns (total 31 columns):\n",
      " #   Column  Non-Null Count   Dtype  \n",
      "---  ------  --------------   -----  \n",
      " 0   Time    284807 non-null  float64\n",
      " 1   V1      284807 non-null  float64\n",
      " 2   V2      284807 non-null  float64\n",
      " 3   V3      284807 non-null  float64\n",
      " 4   V4      284807 non-null  float64\n",
      " 5   V5      284807 non-null  float64\n",
      " 6   V6      284807 non-null  float64\n",
      " 7   V7      284807 non-null  float64\n",
      " 8   V8      284807 non-null  float64\n",
      " 9   V9      284807 non-null  float64\n",
      " 10  V10     284807 non-null  float64\n",
      " 11  V11     284807 non-null  float64\n",
      " 12  V12     284807 non-null  float64\n",
      " 13  V13     284807 non-null  float64\n",
      " 14  V14     284807 non-null  float64\n",
      " 15  V15     284807 non-null  float64\n",
      " 16  V16     284807 non-null  float64\n",
      " 17  V17     284807 non-null  float64\n",
      " 18  V18     284807 non-null  float64\n",
      " 19  V19     284807 non-null  float64\n",
      " 20  V20     284807 non-null  float64\n",
      " 21  V21     284807 non-null  float64\n",
      " 22  V22     284807 non-null  float64\n",
      " 23  V23     284807 non-null  float64\n",
      " 24  V24     284807 non-null  float64\n",
      " 25  V25     284807 non-null  float64\n",
      " 26  V26     284807 non-null  float64\n",
      " 27  V27     284807 non-null  float64\n",
      " 28  V28     284807 non-null  float64\n",
      " 29  Amount  284807 non-null  float64\n",
      " 30  Class   284807 non-null  int64  \n",
      "dtypes: float64(30), int64(1)\n",
      "memory usage: 67.4 MB\n"
     ]
    },
    {
     "data": {
      "text/plain": [
       "0    284315\n",
       "1       492\n",
       "Name: Class, dtype: int64"
      ]
     },
     "execution_count": 3,
     "metadata": {},
     "output_type": "execute_result"
    }
   ],
   "source": [
    "#information about data\n",
    "data.info()\n",
    "data['Class'].value_counts()"
   ]
  },
  {
   "cell_type": "code",
   "execution_count": 4,
   "id": "020065a6",
   "metadata": {},
   "outputs": [
    {
     "name": "stdout",
     "output_type": "stream",
     "text": [
      "(284315, 31) (492, 31)\n"
     ]
    }
   ],
   "source": [
    "#since 0 represents a normal transaction and 1 represents a fraudulent transcation, classifying the data for analysis \n",
    "valid=data[data.Class==0]\n",
    "fraud=data[data.Class==1]\n",
    "print(valid.shape,fraud.shape)\n"
   ]
  },
  {
   "cell_type": "code",
   "execution_count": 5,
   "id": "9cef9699",
   "metadata": {},
   "outputs": [
    {
     "data": {
      "text/plain": [
       "count    284315.000000\n",
       "mean         88.291022\n",
       "std         250.105092\n",
       "min           0.000000\n",
       "25%           5.650000\n",
       "50%          22.000000\n",
       "75%          77.050000\n",
       "max       25691.160000\n",
       "Name: Amount, dtype: float64"
      ]
     },
     "execution_count": 5,
     "metadata": {},
     "output_type": "execute_result"
    }
   ],
   "source": [
    "valid.Amount.describe()"
   ]
  },
  {
   "cell_type": "code",
   "execution_count": 6,
   "id": "5a633a06",
   "metadata": {},
   "outputs": [
    {
     "data": {
      "text/plain": [
       "count     492.000000\n",
       "mean      122.211321\n",
       "std       256.683288\n",
       "min         0.000000\n",
       "25%         1.000000\n",
       "50%         9.250000\n",
       "75%       105.890000\n",
       "max      2125.870000\n",
       "Name: Amount, dtype: float64"
      ]
     },
     "execution_count": 6,
     "metadata": {},
     "output_type": "execute_result"
    }
   ],
   "source": [
    "fraud.Amount.describe()"
   ]
  },
  {
   "cell_type": "markdown",
   "id": "6460f162",
   "metadata": {},
   "source": [
    "Taking a sample dataset containing similar distribution of normal/valid transactions and Fraudulent transaction"
   ]
  },
  {
   "cell_type": "code",
   "execution_count": 7,
   "id": "02cb850b",
   "metadata": {},
   "outputs": [],
   "source": [
    "valid_sample=valid.sample(n=492)"
   ]
  },
  {
   "cell_type": "code",
   "execution_count": 8,
   "id": "b74e72c4",
   "metadata": {},
   "outputs": [
    {
     "data": {
      "text/html": [
       "<div>\n",
       "<style scoped>\n",
       "    .dataframe tbody tr th:only-of-type {\n",
       "        vertical-align: middle;\n",
       "    }\n",
       "\n",
       "    .dataframe tbody tr th {\n",
       "        vertical-align: top;\n",
       "    }\n",
       "\n",
       "    .dataframe thead th {\n",
       "        text-align: right;\n",
       "    }\n",
       "</style>\n",
       "<table border=\"1\" class=\"dataframe\">\n",
       "  <thead>\n",
       "    <tr style=\"text-align: right;\">\n",
       "      <th></th>\n",
       "      <th>Time</th>\n",
       "      <th>V1</th>\n",
       "      <th>V2</th>\n",
       "      <th>V3</th>\n",
       "      <th>V4</th>\n",
       "      <th>V5</th>\n",
       "      <th>V6</th>\n",
       "      <th>V7</th>\n",
       "      <th>V8</th>\n",
       "      <th>V9</th>\n",
       "      <th>...</th>\n",
       "      <th>V21</th>\n",
       "      <th>V22</th>\n",
       "      <th>V23</th>\n",
       "      <th>V24</th>\n",
       "      <th>V25</th>\n",
       "      <th>V26</th>\n",
       "      <th>V27</th>\n",
       "      <th>V28</th>\n",
       "      <th>Amount</th>\n",
       "      <th>Class</th>\n",
       "    </tr>\n",
       "  </thead>\n",
       "  <tbody>\n",
       "    <tr>\n",
       "      <th>135506</th>\n",
       "      <td>81283.0</td>\n",
       "      <td>1.380400</td>\n",
       "      <td>-1.138373</td>\n",
       "      <td>0.195816</td>\n",
       "      <td>-1.544399</td>\n",
       "      <td>-1.106541</td>\n",
       "      <td>-0.060193</td>\n",
       "      <td>-0.965891</td>\n",
       "      <td>0.004414</td>\n",
       "      <td>-2.200620</td>\n",
       "      <td>...</td>\n",
       "      <td>-0.123554</td>\n",
       "      <td>-0.045423</td>\n",
       "      <td>-0.037140</td>\n",
       "      <td>-0.305265</td>\n",
       "      <td>0.346431</td>\n",
       "      <td>-0.174284</td>\n",
       "      <td>0.033084</td>\n",
       "      <td>0.011139</td>\n",
       "      <td>55.74</td>\n",
       "      <td>0</td>\n",
       "    </tr>\n",
       "    <tr>\n",
       "      <th>99983</th>\n",
       "      <td>67369.0</td>\n",
       "      <td>-1.819781</td>\n",
       "      <td>1.592793</td>\n",
       "      <td>-1.651890</td>\n",
       "      <td>-1.101122</td>\n",
       "      <td>1.676461</td>\n",
       "      <td>3.027206</td>\n",
       "      <td>-0.883303</td>\n",
       "      <td>2.111151</td>\n",
       "      <td>-0.794049</td>\n",
       "      <td>...</td>\n",
       "      <td>0.134339</td>\n",
       "      <td>-0.035004</td>\n",
       "      <td>-0.083094</td>\n",
       "      <td>1.036266</td>\n",
       "      <td>-0.019429</td>\n",
       "      <td>0.319246</td>\n",
       "      <td>-0.039394</td>\n",
       "      <td>0.031714</td>\n",
       "      <td>6.27</td>\n",
       "      <td>0</td>\n",
       "    </tr>\n",
       "    <tr>\n",
       "      <th>208173</th>\n",
       "      <td>137001.0</td>\n",
       "      <td>-5.722709</td>\n",
       "      <td>0.837407</td>\n",
       "      <td>-2.352195</td>\n",
       "      <td>-2.610065</td>\n",
       "      <td>1.168136</td>\n",
       "      <td>-0.547367</td>\n",
       "      <td>1.699807</td>\n",
       "      <td>-1.284554</td>\n",
       "      <td>0.821494</td>\n",
       "      <td>...</td>\n",
       "      <td>-0.138548</td>\n",
       "      <td>1.142934</td>\n",
       "      <td>-1.286403</td>\n",
       "      <td>0.014451</td>\n",
       "      <td>1.803330</td>\n",
       "      <td>0.112595</td>\n",
       "      <td>-3.119096</td>\n",
       "      <td>1.098372</td>\n",
       "      <td>30.00</td>\n",
       "      <td>0</td>\n",
       "    </tr>\n",
       "    <tr>\n",
       "      <th>112331</th>\n",
       "      <td>72614.0</td>\n",
       "      <td>-0.665353</td>\n",
       "      <td>0.474942</td>\n",
       "      <td>1.274875</td>\n",
       "      <td>-0.113750</td>\n",
       "      <td>0.279357</td>\n",
       "      <td>-0.364606</td>\n",
       "      <td>0.990518</td>\n",
       "      <td>0.033517</td>\n",
       "      <td>-1.032260</td>\n",
       "      <td>...</td>\n",
       "      <td>-0.201520</td>\n",
       "      <td>-0.873832</td>\n",
       "      <td>0.486268</td>\n",
       "      <td>0.182989</td>\n",
       "      <td>-0.888932</td>\n",
       "      <td>-0.141950</td>\n",
       "      <td>0.070464</td>\n",
       "      <td>0.159113</td>\n",
       "      <td>99.90</td>\n",
       "      <td>0</td>\n",
       "    </tr>\n",
       "    <tr>\n",
       "      <th>78510</th>\n",
       "      <td>57563.0</td>\n",
       "      <td>1.178063</td>\n",
       "      <td>0.133173</td>\n",
       "      <td>0.385851</td>\n",
       "      <td>1.400029</td>\n",
       "      <td>-0.260862</td>\n",
       "      <td>-0.215011</td>\n",
       "      <td>-0.033714</td>\n",
       "      <td>0.063893</td>\n",
       "      <td>0.497216</td>\n",
       "      <td>...</td>\n",
       "      <td>-0.121896</td>\n",
       "      <td>-0.163620</td>\n",
       "      <td>-0.039152</td>\n",
       "      <td>0.057336</td>\n",
       "      <td>0.620024</td>\n",
       "      <td>-0.307474</td>\n",
       "      <td>0.032404</td>\n",
       "      <td>0.011840</td>\n",
       "      <td>1.00</td>\n",
       "      <td>0</td>\n",
       "    </tr>\n",
       "  </tbody>\n",
       "</table>\n",
       "<p>5 rows × 31 columns</p>\n",
       "</div>"
      ],
      "text/plain": [
       "            Time        V1        V2        V3        V4        V5        V6  \\\n",
       "135506   81283.0  1.380400 -1.138373  0.195816 -1.544399 -1.106541 -0.060193   \n",
       "99983    67369.0 -1.819781  1.592793 -1.651890 -1.101122  1.676461  3.027206   \n",
       "208173  137001.0 -5.722709  0.837407 -2.352195 -2.610065  1.168136 -0.547367   \n",
       "112331   72614.0 -0.665353  0.474942  1.274875 -0.113750  0.279357 -0.364606   \n",
       "78510    57563.0  1.178063  0.133173  0.385851  1.400029 -0.260862 -0.215011   \n",
       "\n",
       "              V7        V8        V9  ...       V21       V22       V23  \\\n",
       "135506 -0.965891  0.004414 -2.200620  ... -0.123554 -0.045423 -0.037140   \n",
       "99983  -0.883303  2.111151 -0.794049  ...  0.134339 -0.035004 -0.083094   \n",
       "208173  1.699807 -1.284554  0.821494  ... -0.138548  1.142934 -1.286403   \n",
       "112331  0.990518  0.033517 -1.032260  ... -0.201520 -0.873832  0.486268   \n",
       "78510  -0.033714  0.063893  0.497216  ... -0.121896 -0.163620 -0.039152   \n",
       "\n",
       "             V24       V25       V26       V27       V28  Amount  Class  \n",
       "135506 -0.305265  0.346431 -0.174284  0.033084  0.011139   55.74      0  \n",
       "99983   1.036266 -0.019429  0.319246 -0.039394  0.031714    6.27      0  \n",
       "208173  0.014451  1.803330  0.112595 -3.119096  1.098372   30.00      0  \n",
       "112331  0.182989 -0.888932 -0.141950  0.070464  0.159113   99.90      0  \n",
       "78510   0.057336  0.620024 -0.307474  0.032404  0.011840    1.00      0  \n",
       "\n",
       "[5 rows x 31 columns]"
      ]
     },
     "execution_count": 8,
     "metadata": {},
     "output_type": "execute_result"
    }
   ],
   "source": [
    "#concatenating two dataframes\n",
    "final_data=pd.concat([valid_sample,fraud], axis=0)\n",
    "final_data.head()"
   ]
  },
  {
   "cell_type": "code",
   "execution_count": 9,
   "id": "8eb9d584",
   "metadata": {},
   "outputs": [
    {
     "data": {
      "text/html": [
       "<div>\n",
       "<style scoped>\n",
       "    .dataframe tbody tr th:only-of-type {\n",
       "        vertical-align: middle;\n",
       "    }\n",
       "\n",
       "    .dataframe tbody tr th {\n",
       "        vertical-align: top;\n",
       "    }\n",
       "\n",
       "    .dataframe thead th {\n",
       "        text-align: right;\n",
       "    }\n",
       "</style>\n",
       "<table border=\"1\" class=\"dataframe\">\n",
       "  <thead>\n",
       "    <tr style=\"text-align: right;\">\n",
       "      <th></th>\n",
       "      <th>Time</th>\n",
       "      <th>V1</th>\n",
       "      <th>V2</th>\n",
       "      <th>V3</th>\n",
       "      <th>V4</th>\n",
       "      <th>V5</th>\n",
       "      <th>V6</th>\n",
       "      <th>V7</th>\n",
       "      <th>V8</th>\n",
       "      <th>V9</th>\n",
       "      <th>...</th>\n",
       "      <th>V20</th>\n",
       "      <th>V21</th>\n",
       "      <th>V22</th>\n",
       "      <th>V23</th>\n",
       "      <th>V24</th>\n",
       "      <th>V25</th>\n",
       "      <th>V26</th>\n",
       "      <th>V27</th>\n",
       "      <th>V28</th>\n",
       "      <th>Amount</th>\n",
       "    </tr>\n",
       "    <tr>\n",
       "      <th>Class</th>\n",
       "      <th></th>\n",
       "      <th></th>\n",
       "      <th></th>\n",
       "      <th></th>\n",
       "      <th></th>\n",
       "      <th></th>\n",
       "      <th></th>\n",
       "      <th></th>\n",
       "      <th></th>\n",
       "      <th></th>\n",
       "      <th></th>\n",
       "      <th></th>\n",
       "      <th></th>\n",
       "      <th></th>\n",
       "      <th></th>\n",
       "      <th></th>\n",
       "      <th></th>\n",
       "      <th></th>\n",
       "      <th></th>\n",
       "      <th></th>\n",
       "      <th></th>\n",
       "    </tr>\n",
       "  </thead>\n",
       "  <tbody>\n",
       "    <tr>\n",
       "      <th>0</th>\n",
       "      <td>95175.467480</td>\n",
       "      <td>-0.029823</td>\n",
       "      <td>0.113570</td>\n",
       "      <td>-0.019021</td>\n",
       "      <td>0.085094</td>\n",
       "      <td>0.012882</td>\n",
       "      <td>-0.019497</td>\n",
       "      <td>0.025967</td>\n",
       "      <td>0.020231</td>\n",
       "      <td>-0.041229</td>\n",
       "      <td>...</td>\n",
       "      <td>0.055958</td>\n",
       "      <td>0.003674</td>\n",
       "      <td>-0.015622</td>\n",
       "      <td>-0.016561</td>\n",
       "      <td>0.01502</td>\n",
       "      <td>-0.012819</td>\n",
       "      <td>0.014360</td>\n",
       "      <td>-0.013192</td>\n",
       "      <td>0.002452</td>\n",
       "      <td>93.527398</td>\n",
       "    </tr>\n",
       "    <tr>\n",
       "      <th>1</th>\n",
       "      <td>80746.806911</td>\n",
       "      <td>-4.771948</td>\n",
       "      <td>3.623778</td>\n",
       "      <td>-7.033281</td>\n",
       "      <td>4.542029</td>\n",
       "      <td>-3.151225</td>\n",
       "      <td>-1.397737</td>\n",
       "      <td>-5.568731</td>\n",
       "      <td>0.570636</td>\n",
       "      <td>-2.581123</td>\n",
       "      <td>...</td>\n",
       "      <td>0.372319</td>\n",
       "      <td>0.713588</td>\n",
       "      <td>0.014049</td>\n",
       "      <td>-0.040308</td>\n",
       "      <td>-0.10513</td>\n",
       "      <td>0.041449</td>\n",
       "      <td>0.051648</td>\n",
       "      <td>0.170575</td>\n",
       "      <td>0.075667</td>\n",
       "      <td>122.211321</td>\n",
       "    </tr>\n",
       "  </tbody>\n",
       "</table>\n",
       "<p>2 rows × 30 columns</p>\n",
       "</div>"
      ],
      "text/plain": [
       "               Time        V1        V2        V3        V4        V5  \\\n",
       "Class                                                                   \n",
       "0      95175.467480 -0.029823  0.113570 -0.019021  0.085094  0.012882   \n",
       "1      80746.806911 -4.771948  3.623778 -7.033281  4.542029 -3.151225   \n",
       "\n",
       "             V6        V7        V8        V9  ...       V20       V21  \\\n",
       "Class                                          ...                       \n",
       "0     -0.019497  0.025967  0.020231 -0.041229  ...  0.055958  0.003674   \n",
       "1     -1.397737 -5.568731  0.570636 -2.581123  ...  0.372319  0.713588   \n",
       "\n",
       "            V22       V23      V24       V25       V26       V27       V28  \\\n",
       "Class                                                                        \n",
       "0     -0.015622 -0.016561  0.01502 -0.012819  0.014360 -0.013192  0.002452   \n",
       "1      0.014049 -0.040308 -0.10513  0.041449  0.051648  0.170575  0.075667   \n",
       "\n",
       "           Amount  \n",
       "Class              \n",
       "0       93.527398  \n",
       "1      122.211321  \n",
       "\n",
       "[2 rows x 30 columns]"
      ]
     },
     "execution_count": 9,
     "metadata": {},
     "output_type": "execute_result"
    }
   ],
   "source": [
    "final_data.groupby('Class').mean()"
   ]
  },
  {
   "cell_type": "markdown",
   "id": "5792d26b",
   "metadata": {},
   "source": [
    "Splitting the dataset into features and targets "
   ]
  },
  {
   "cell_type": "code",
   "execution_count": 10,
   "id": "4b7ed575",
   "metadata": {},
   "outputs": [],
   "source": [
    "X=final_data.drop(columns='Class',axis=1)\n",
    "Y=final_data['Class']"
   ]
  },
  {
   "cell_type": "code",
   "execution_count": 11,
   "id": "f9ef06c2",
   "metadata": {},
   "outputs": [
    {
     "name": "stdout",
     "output_type": "stream",
     "text": [
      "            Time        V1        V2        V3        V4        V5        V6  \\\n",
      "135506   81283.0  1.380400 -1.138373  0.195816 -1.544399 -1.106541 -0.060193   \n",
      "99983    67369.0 -1.819781  1.592793 -1.651890 -1.101122  1.676461  3.027206   \n",
      "208173  137001.0 -5.722709  0.837407 -2.352195 -2.610065  1.168136 -0.547367   \n",
      "112331   72614.0 -0.665353  0.474942  1.274875 -0.113750  0.279357 -0.364606   \n",
      "78510    57563.0  1.178063  0.133173  0.385851  1.400029 -0.260862 -0.215011   \n",
      "...          ...       ...       ...       ...       ...       ...       ...   \n",
      "279863  169142.0 -1.927883  1.125653 -4.518331  1.749293 -1.566487 -2.010494   \n",
      "280143  169347.0  1.378559  1.289381 -5.004247  1.411850  0.442581 -1.326536   \n",
      "280149  169351.0 -0.676143  1.126366 -2.213700  0.468308 -1.120541 -0.003346   \n",
      "281144  169966.0 -3.113832  0.585864 -5.399730  1.817092 -0.840618 -2.943548   \n",
      "281674  170348.0  1.991976  0.158476 -2.583441  0.408670  1.151147 -0.096695   \n",
      "\n",
      "              V7        V8        V9  ...       V20       V21       V22  \\\n",
      "135506 -0.965891  0.004414 -2.200620  ... -0.228325 -0.123554 -0.045423   \n",
      "99983  -0.883303  2.111151 -0.794049  ... -0.009111  0.134339 -0.035004   \n",
      "208173  1.699807 -1.284554  0.821494  ... -0.378144 -0.138548  1.142934   \n",
      "112331  0.990518  0.033517 -1.032260  ...  0.218346 -0.201520 -0.873832   \n",
      "78510  -0.033714  0.063893  0.497216  ... -0.292237 -0.121896 -0.163620   \n",
      "...          ...       ...       ...  ...       ...       ...       ...   \n",
      "279863 -0.882850  0.697211 -2.064945  ...  1.252967  0.778584 -0.319189   \n",
      "280143 -1.413170  0.248525 -1.127396  ...  0.226138  0.370612  0.028234   \n",
      "280149 -2.234739  1.210158 -0.652250  ...  0.247968  0.751826  0.834108   \n",
      "281144 -2.208002  1.058733 -1.632333  ...  0.306271  0.583276 -0.269209   \n",
      "281674  0.223050 -0.068384  0.577829  ... -0.017652 -0.164350 -0.295135   \n",
      "\n",
      "             V23       V24       V25       V26       V27       V28  Amount  \n",
      "135506 -0.037140 -0.305265  0.346431 -0.174284  0.033084  0.011139   55.74  \n",
      "99983  -0.083094  1.036266 -0.019429  0.319246 -0.039394  0.031714    6.27  \n",
      "208173 -1.286403  0.014451  1.803330  0.112595 -3.119096  1.098372   30.00  \n",
      "112331  0.486268  0.182989 -0.888932 -0.141950  0.070464  0.159113   99.90  \n",
      "78510  -0.039152  0.057336  0.620024 -0.307474  0.032404  0.011840    1.00  \n",
      "...          ...       ...       ...       ...       ...       ...     ...  \n",
      "279863  0.639419 -0.294885  0.537503  0.788395  0.292680  0.147968  390.00  \n",
      "280143 -0.145640 -0.081049  0.521875  0.739467  0.389152  0.186637    0.76  \n",
      "280149  0.190944  0.032070 -0.739695  0.471111  0.385107  0.194361   77.89  \n",
      "281144 -0.456108 -0.183659 -0.328168  0.606116  0.884876 -0.253700  245.00  \n",
      "281674 -0.072173 -0.450261  0.313267 -0.289617  0.002988 -0.015309   42.53  \n",
      "\n",
      "[984 rows x 30 columns]\n"
     ]
    }
   ],
   "source": [
    "print(X)"
   ]
  },
  {
   "cell_type": "code",
   "execution_count": 12,
   "id": "a39f43af",
   "metadata": {},
   "outputs": [
    {
     "name": "stdout",
     "output_type": "stream",
     "text": [
      "135506    0\n",
      "99983     0\n",
      "208173    0\n",
      "112331    0\n",
      "78510     0\n",
      "         ..\n",
      "279863    1\n",
      "280143    1\n",
      "280149    1\n",
      "281144    1\n",
      "281674    1\n",
      "Name: Class, Length: 984, dtype: int64\n"
     ]
    }
   ],
   "source": [
    "print(Y)"
   ]
  },
  {
   "cell_type": "markdown",
   "id": "84c45dfd",
   "metadata": {},
   "source": [
    "Split the dataset into training and testing sets"
   ]
  },
  {
   "cell_type": "code",
   "execution_count": 13,
   "id": "a47d018a",
   "metadata": {},
   "outputs": [],
   "source": [
    "X_train,X_test,Y_train,Y_test= train_test_split(X,Y, test_size=0.2,stratify=Y,random_state=2)"
   ]
  },
  {
   "cell_type": "markdown",
   "id": "5822f16a",
   "metadata": {},
   "source": [
    "Create and train the logistic regression model"
   ]
  },
  {
   "cell_type": "code",
   "execution_count": 14,
   "id": "f22e5591",
   "metadata": {},
   "outputs": [
    {
     "data": {
      "text/plain": [
       "LogisticRegression()"
      ]
     },
     "execution_count": 14,
     "metadata": {},
     "output_type": "execute_result"
    }
   ],
   "source": [
    "model=LogisticRegression()\n",
    "model.fit(X_train,Y_train)"
   ]
  },
  {
   "cell_type": "markdown",
   "id": "55bca103",
   "metadata": {},
   "source": [
    "Predict accuracy score "
   ]
  },
  {
   "cell_type": "code",
   "execution_count": 15,
   "id": "471728c6",
   "metadata": {},
   "outputs": [],
   "source": [
    "X_train_prediction=model.predict(X_train)\n",
    "training_accuracy=accuracy_score(X_train_prediction,Y_train)"
   ]
  },
  {
   "cell_type": "code",
   "execution_count": 16,
   "id": "8ea764b2",
   "metadata": {},
   "outputs": [
    {
     "name": "stdout",
     "output_type": "stream",
     "text": [
      "The accuracy score on Training Data :  0.9263024142312579\n"
     ]
    }
   ],
   "source": [
    "print(\"The accuracy score on Training Data : \",training_accuracy)"
   ]
  },
  {
   "cell_type": "code",
   "execution_count": 17,
   "id": "9eb19110",
   "metadata": {},
   "outputs": [],
   "source": [
    "X_test_prediction=model.predict(X_test)\n",
    "test_accuracy=accuracy_score(X_test_prediction,Y_test)"
   ]
  },
  {
   "cell_type": "code",
   "execution_count": 18,
   "id": "4551e460",
   "metadata": {},
   "outputs": [
    {
     "name": "stdout",
     "output_type": "stream",
     "text": [
      "The accuracy score on Test Data :  0.8629441624365483\n"
     ]
    }
   ],
   "source": [
    "print(\"The accuracy score on Test Data : \",test_accuracy)"
   ]
  },
  {
   "cell_type": "markdown",
   "id": "0a756994",
   "metadata": {},
   "source": [
    " "
   ]
  },
  {
   "cell_type": "code",
   "execution_count": 1,
   "id": "86e09194",
   "metadata": {},
   "outputs": [
    {
     "ename": "ModuleNotFoundError",
     "evalue": "No module named 'tensorflow'",
     "output_type": "error",
     "traceback": [
      "\u001b[1;31m---------------------------------------------------------------------------\u001b[0m",
      "\u001b[1;31mModuleNotFoundError\u001b[0m                       Traceback (most recent call last)",
      "Input \u001b[1;32mIn [1]\u001b[0m, in \u001b[0;36m<cell line: 1>\u001b[1;34m()\u001b[0m\n\u001b[1;32m----> 1\u001b[0m \u001b[38;5;28;01mimport\u001b[39;00m \u001b[38;5;21;01mtensorflow\u001b[39;00m\n",
      "\u001b[1;31mModuleNotFoundError\u001b[0m: No module named 'tensorflow'"
     ]
    }
   ],
   "source": [
    "import tensorflow"
   ]
  },
  {
   "cell_type": "code",
   "execution_count": null,
   "id": "409461d3",
   "metadata": {},
   "outputs": [],
   "source": []
  }
 ],
 "metadata": {
  "kernelspec": {
   "display_name": "Python 3 (ipykernel)",
   "language": "python",
   "name": "python3"
  },
  "language_info": {
   "codemirror_mode": {
    "name": "ipython",
    "version": 3
   },
   "file_extension": ".py",
   "mimetype": "text/x-python",
   "name": "python",
   "nbconvert_exporter": "python",
   "pygments_lexer": "ipython3",
   "version": "3.9.12"
  }
 },
 "nbformat": 4,
 "nbformat_minor": 5
}
